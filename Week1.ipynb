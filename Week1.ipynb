{
 "cells": [
  {
   "cell_type": "code",
   "execution_count": 1,
   "metadata": {},
   "outputs": [],
   "source": [
    "import numpy as np\n",
    "import seaborn as sns"
   ]
  },
  {
   "cell_type": "markdown",
   "metadata": {},
   "source": [
    "## Write a NumPy program to create an array of all even integers from 30 to 70."
   ]
  },
  {
   "cell_type": "code",
   "execution_count": 2,
   "metadata": {},
   "outputs": [],
   "source": [
    "even_array = np.arange(30,70,2)"
   ]
  },
  {
   "cell_type": "code",
   "execution_count": 3,
   "metadata": {},
   "outputs": [
    {
     "data": {
      "text/plain": [
       "array([30, 32, 34, 36, 38, 40, 42, 44, 46, 48, 50, 52, 54, 56, 58, 60, 62,\n",
       "       64, 66, 68])"
      ]
     },
     "execution_count": 3,
     "metadata": {},
     "output_type": "execute_result"
    }
   ],
   "source": [
    "even_array"
   ]
  },
  {
   "cell_type": "markdown",
   "metadata": {},
   "source": [
    "##  Write a NumPy program to generate an array of 15 random numbers from a standard normal distribution"
   ]
  },
  {
   "cell_type": "code",
   "execution_count": 4,
   "metadata": {},
   "outputs": [
    {
     "data": {
      "text/plain": [
       "array([-0.64601037,  0.42640915, -0.83903834, -1.87380991,  1.11244898,\n",
       "       -0.16141743,  1.72400446, -0.30905131,  0.31587331, -1.1613497 ,\n",
       "        0.73625751, -2.3416696 , -0.32595352, -0.88984509,  0.39528426])"
      ]
     },
     "execution_count": 4,
     "metadata": {},
     "output_type": "execute_result"
    }
   ],
   "source": [
    "a = np.random.randn(15)\n",
    "a"
   ]
  },
  {
   "cell_type": "code",
   "execution_count": 5,
   "metadata": {},
   "outputs": [
    {
     "name": "stderr",
     "output_type": "stream",
     "text": [
      "C:\\Users\\RIZWAN\\AppData\\Local\\Temp\\ipykernel_9592\\819221729.py:1: UserWarning: \n",
      "\n",
      "`distplot` is a deprecated function and will be removed in seaborn v0.14.0.\n",
      "\n",
      "Please adapt your code to use either `displot` (a figure-level function with\n",
      "similar flexibility) or `histplot` (an axes-level function for histograms).\n",
      "\n",
      "For a guide to updating your code to use the new functions, please see\n",
      "https://gist.github.com/mwaskom/de44147ed2974457ad6372750bbe5751\n",
      "\n",
      "  sns.distplot(a)\n"
     ]
    },
    {
     "data": {
      "text/plain": [
       "<Axes: ylabel='Density'>"
      ]
     },
     "execution_count": 5,
     "metadata": {},
     "output_type": "execute_result"
    },
    {
     "data": {
      "image/png": "[encoded data removed]",
      "text/plain": [
       "<Figure size 640x480 with 1 Axes>"
      ]
     },
     "metadata": {},
     "output_type": "display_data"
    }
   ],
   "source": [
    "sns.distplot(a)"
   ]
  },
  {
   "cell_type": "markdown",
   "metadata": {},
   "source": [
    "##  How to compute the cross-product of two matrices in NumPy?"
   ]
  },
  {
   "cell_type": "code",
   "execution_count": 6,
   "metadata": {},
   "outputs": [],
   "source": [
    "a = np.array([[1, 2, 3],\n",
    "              [4, 5, 6],\n",
    "              [7, 8, 9]])\n",
    "\n",
    "b = np.array([[9, 8, 7],\n",
    "              [6, 5, 4],\n",
    "              [3, 2, 1]])\n",
    "c = np.cross(a,b)"
   ]
  },
  {
   "cell_type": "code",
   "execution_count": 7,
   "metadata": {},
   "outputs": [
    {
     "data": {
      "text/plain": [
       "array([[-10,  20, -10],\n",
       "       [-10,  20, -10],\n",
       "       [-10,  20, -10]])"
      ]
     },
     "execution_count": 7,
     "metadata": {},
     "output_type": "execute_result"
    }
   ],
   "source": [
    "c"
   ]
  },
  {
   "cell_type": "markdown",
   "metadata": {},
   "source": [
    "## How to compute the determinant of an array using NumPy?"
   ]
  },
  {
   "cell_type": "code",
   "execution_count": 8,
   "metadata": {},
   "outputs": [
    {
     "name": "stdout",
     "output_type": "stream",
     "text": [
      "determinant of a is :  0.0\n"
     ]
    }
   ],
   "source": [
    "a = np.array([[1, 2, 3],\n",
    "              [4, 5, 6],\n",
    "              [7, 8, 9]])\n",
    "det = np.linalg.det(a)\n",
    "print('determinant of a is : ',det)"
   ]
  },
  {
   "cell_type": "code",
   "execution_count": 9,
   "metadata": {},
   "outputs": [
    {
     "name": "stdout",
     "output_type": "stream",
     "text": [
      "determinant of a is :  0.0\n"
     ]
    }
   ],
   "source": [
    "\n",
    "det = np.linalg.det(c)\n",
    "print('determinant of a is : ',det)"
   ]
  },
  {
   "cell_type": "code",
   "execution_count": 10,
   "metadata": {},
   "outputs": [
    {
     "data": {
      "text/plain": [
       "-2.0000000000000004"
      ]
     },
     "execution_count": 10,
     "metadata": {},
     "output_type": "execute_result"
    }
   ],
   "source": [
    "matrix = np.array([[1, 2],\n",
    "                   [3, 4]])\n",
    "determinant = np.linalg.det(matrix)\n",
    "determinant"
   ]
  },
  {
   "cell_type": "markdown",
   "metadata": {},
   "source": [
    "### How to create a 3x3x3 array with random values using NumPy?"
   ]
  },
  {
   "cell_type": "code",
   "execution_count": 12,
   "metadata": {},
   "outputs": [
    {
     "name": "stdout",
     "output_type": "stream",
     "text": [
      "[[[0.4177582  0.20476192 0.32889866]\n",
      "  [0.62457519 0.42185497 0.61773255]\n",
      "  [0.36524483 0.08490949 0.7169521 ]]\n",
      "\n",
      " [[0.51288638 0.5127067  0.89212215]\n",
      "  [0.73376585 0.87508822 0.78807439]\n",
      "  [0.70845014 0.37242294 0.7907031 ]]\n",
      "\n",
      " [[0.83191161 0.37353352 0.24876983]\n",
      "  [0.61769644 0.88421082 0.33602023]\n",
      "  [0.62403352 0.13877067 0.66880211]]]\n"
     ]
    }
   ],
   "source": [
    "array = np.random.rand(27).reshape(3,3,3)\n",
    "print(array)"
   ]
  },
  {
   "cell_type": "markdown",
   "metadata": {},
   "source": [
    "### How to create a 5x5 array with random values and find the minimum and maximum values using NumPy?"
   ]
  },
  {
   "cell_type": "code",
   "execution_count": 18,
   "metadata": {},
   "outputs": [
    {
     "name": "stdout",
     "output_type": "stream",
     "text": [
      "[[0.54836531 0.95745911 0.42318932 0.56501748 0.32714864]\n",
      " [0.37253353 0.09800904 0.6964676  0.15276583 0.22334425]\n",
      " [0.53816185 0.9798921  0.65518877 0.92140066 0.68419442]\n",
      " [0.92537953 0.8663556  0.45674543 0.05515814 0.21349866]\n",
      " [0.08724644 0.25781198 0.77067964 0.2997141  0.46302923]]\n",
      "                           \n",
      "0.055158138459874384\n",
      "0.9798920998700934\n"
     ]
    }
   ],
   "source": [
    "t = np.random.rand(25).reshape(5,5)\n",
    "print(t)\n",
    "print(t.min())\n",
    "print(t.max())"
   ]
  },
  {
   "cell_type": "markdown",
   "metadata": {},
   "source": [
    "### How to compute the mean, standard deviation, and variance of a given array along the second axis in NumPy?"
   ]
  },
  {
   "cell_type": "code",
   "execution_count": 19,
   "metadata": {},
   "outputs": [
    {
     "name": "stdout",
     "output_type": "stream",
     "text": [
      "mean is :  [0.56423597 0.30862405 0.75576756 0.50342747 0.37569628]\n",
      "std is :  [0.21493324 0.21467657 0.16748563 0.34552675 0.23087322]\n",
      "var is :  [0.0461963  0.04608603 0.02805144 0.11938874 0.05330244]\n"
     ]
    }
   ],
   "source": [
    "print('mean is : ', np.mean(t,axis=1))\n",
    "print('std is : ', np.std(t,axis=1))\n",
    "print('var is : ', np.var(t,axis=1))"
   ]
  },
  {
   "cell_type": "code",
   "execution_count": null,
   "metadata": {},
   "outputs": [],
   "source": []
  }
 ],
 "metadata": {
  "kernelspec": {
   "display_name": "Python 3",
   "language": "python",
   "name": "python3"
  },
  "language_info": {
   "codemirror_mode": {
    "name": "ipython",
    "version": 3
   },
   "file_extension": ".py",
   "mimetype": "text/x-python",
   "name": "python",
   "nbconvert_exporter": "python",
   "pygments_lexer": "ipython3",
   "version": "3.11.7"
  }
 },
 "nbformat": 4,
 "nbformat_minor": 2
}
